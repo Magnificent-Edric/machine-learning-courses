{
 "cells": [
  {
   "cell_type": "code",
   "execution_count": 1,
   "metadata": {},
   "outputs": [],
   "source": [
    "import numpy as np\n",
    "from sympy import *\n",
    "init_printing(num_columns=200)\n",
    "\n",
    "def deg_to_rad(angle: float) -> float:\n",
    "    return angle * pi / 180\n",
    "\n",
    "class Link:\n",
    "    def __init__(self, alpha, a, d, theta) -> None:\n",
    "        self.alpha = alpha\n",
    "        self.a = a\n",
    "        self.d = d\n",
    "        self.theta = theta\n",
    "\n",
    "L1 = 0.3\n",
    "L2 = 0.25\n",
    "\n",
    "theta_1 = np.deg2rad(0)\n",
    "theta_4 = np.deg2rad(0)\n",
    "theta_2 = np.deg2rad(0)\n",
    "theta_3 = np.deg2rad(0)\n",
    "\n",
    "links = [\n",
    "    Link(pi / 2,          0,              0,                theta_1 - pi / 2),\n",
    "    Link(-pi / 2,         0,              0,                theta_2 + pi / 2),\n",
    "    Link(pi / 2,          0,             L1,                theta_3 + pi / 2),\n",
    "    Link(-pi / 2,         0,              0,                theta_4 - pi / 2),\n",
    "    Link(0,           L2,             0,                0),\n",
    "]\n",
    "\n",
    "def create_matrix(links, i):\n",
    "    mat = Matrix([\n",
    "            [cos(links[i].theta),                       -sin(links[i].theta),                       0,                      links[i].a],\n",
    "            [sin(links[i].theta) * cos(links[i].alpha), cos(links[i].theta) * cos(links[i].alpha),  -sin(links[i].alpha),   -sin(links[i].alpha) * links[i].d],\n",
    "            [sin(links[i].theta) * sin(links[i].alpha), cos(links[i].theta) * sin(links[i].alpha),  cos(links[i].alpha),    cos(links[i].alpha) * links[i].d],\n",
    "            [0,                                         0,                                          0,                      1]\n",
    "        ])\n",
    "    return mat"
   ]
  },
  {
   "cell_type": "code",
   "execution_count": 2,
   "metadata": {},
   "outputs": [],
   "source": [
    "T01 = create_matrix(links, 0)\n",
    "T12 = create_matrix(links, 1)\n",
    "T23 = create_matrix(links, 2)\n",
    "T34 = create_matrix(links, 3)\n",
    "T45 = create_matrix(links, 4)"
   ]
  },
  {
   "cell_type": "code",
   "execution_count": 3,
   "metadata": {},
   "outputs": [],
   "source": [
    "R01 = T01[:3,:3]\n",
    "R12 = T12[:3,:3]\n",
    "R23 = T23[:3,:3]\n",
    "R34 = T34[:3,:3]\n",
    "R45 = T45[:3,:3]\n",
    "\n",
    "p1 = T01[:3, 3]\n",
    "p3 = T23[:3, 3]\n",
    "p2 = T12[:3, 3]\n",
    "p4 = T34[:3, 3]\n",
    "p5 = T45[:3, 3]"
   ]
  },
  {
   "cell_type": "code",
   "execution_count": 6,
   "metadata": {},
   "outputs": [],
   "source": [
    "\n",
    "def cross(df1, df2):\n",
    "    x1 = df1[0]\n",
    "    y1 = df1[1]\n",
    "    z1 = df1[2]\n",
    "\n",
    "    x2 = df2[0]\n",
    "    y2 = df2[1]\n",
    "    z2 = df2[2]\n",
    "    return Matrix([[y1*z2 - y2*z1],\n",
    "                    [z1*x2 - z2*x1],\n",
    "                    [x1*y2 - x2*y1]])\n",
    "\n",
    "Fx, Fy, Fz = 10, 8, 5\n",
    "f5 = Matrix([[Fx], [Fy], [Fz]])\n",
    "n5 = Matrix([[0], [0], [0]])\n",
    "\n",
    "f4 = R45 @ f5\n",
    "n4 = R45 @ n5 + cross(p5, f4)\n",
    "\n",
    "f3 = R34 @ f4\n",
    "n3 = R34 @ n4 + cross(p4, f3)\n",
    "\n",
    "f2 = R23 @ f3\n",
    "n2 = R23 @ n3 + cross(p3, f2)\n",
    "\n",
    "f1 = R12 @ f2\n",
    "n1 = R12 @ n2 + cross(p2, f1)"
   ]
  },
  {
   "cell_type": "code",
   "execution_count": 7,
   "metadata": {},
   "outputs": [],
   "source": [
    "z = np.array([0, 0, 1])\n",
    "\n",
    "tau5 = n5.T @ z\n",
    "tau4 = n4.T @ z\n",
    "tau3 = n3.T @ z\n",
    "tau2 = n2.T @ z\n",
    "tau1 = n1.T @ z"
   ]
  },
  {
   "cell_type": "code",
   "execution_count": 8,
   "metadata": {},
   "outputs": [],
   "source": [
    "Tau = Matrix([tau1, tau2, tau3, tau4])"
   ]
  },
  {
   "cell_type": "code",
   "execution_count": 9,
   "metadata": {},
   "outputs": [
    {
     "data": {
      "text/latex": [
       "$\\displaystyle \\left[\\begin{matrix}4.4\\\\-2.75\\\\0\\\\2.0\\end{matrix}\\right]$"
      ],
      "text/plain": [
       "⎡ 4.4 ⎤\n",
       "⎢     ⎥\n",
       "⎢-2.75⎥\n",
       "⎢     ⎥\n",
       "⎢  0  ⎥\n",
       "⎢     ⎥\n",
       "⎣ 2.0 ⎦"
      ]
     },
     "execution_count": 9,
     "metadata": {},
     "output_type": "execute_result"
    }
   ],
   "source": [
    "Tau"
   ]
  },
  {
   "cell_type": "code",
   "execution_count": 11,
   "metadata": {},
   "outputs": [],
   "source": [
    "w0 = np.zeros(3)\n",
    "v0 = np.zeros(3)\n",
    "dth1, dth2,dth3, dth4 =0,0,0,0\n",
    "\n",
    "w1 = R01.T @ w0 + np.array([0 ,0, dth1])\n",
    "v1 = R01.T @ (np.reshape(v0, (3, 1)) + cross(w0, p1))\n",
    "\n",
    "w2 = R12.T @ w1 + np.array([0 ,0, dth2])\n",
    "v2 = R12.T @ (np.reshape(v1, (3, 1)) + cross(w1, p2))\n",
    "\n",
    "w3 = R23.T @ w2 + np.array([0 ,0, dth3])\n",
    "v3 = R23.T @ (np.reshape(v2, (3, 1)) + cross(w2, p3))\n",
    "\n",
    "w4 = R34.T @ w3 + np.array([0 ,0, dth4])\n",
    "v4 = R34.T @ (np.reshape(v3, (3, 1)) + cross(w3, p4))\n",
    "\n",
    "w5 = R45.T @ w4 + np.array ([0 ,0, 0])\n",
    "v5 = R45.T @ (np.reshape(v4, (3, 1)) + cross(w4, p5))"
   ]
  },
  {
   "cell_type": "code",
   "execution_count": 12,
   "metadata": {},
   "outputs": [
    {
     "ename": "NameError",
     "evalue": "name 'jacobian' is not defined",
     "output_type": "error",
     "traceback": [
      "\u001b[1;31m---------------------------------------------------------------------------\u001b[0m",
      "\u001b[1;31mNameError\u001b[0m                                 Traceback (most recent call last)",
      "\u001b[1;32mc:\\Users\\nuke\\Desktop\\mlcourses\\test-fe_.ipynb Cell 9\u001b[0m line \u001b[0;36m2\n\u001b[0;32m      <a href='vscode-notebook-cell:/c%3A/Users/nuke/Desktop/mlcourses/test-fe_.ipynb#X11sZmlsZQ%3D%3D?line=0'>1</a>\u001b[0m vw \u001b[39m=\u001b[39m ([v4[\u001b[39m0\u001b[39m], v4[\u001b[39m1\u001b[39m], v4[\u001b[39m2\u001b[39m], w4[\u001b[39m0\u001b[39m], w4[\u001b[39m1\u001b[39m], w4[\u001b[39m2\u001b[39m]])\n\u001b[1;32m----> <a href='vscode-notebook-cell:/c%3A/Users/nuke/Desktop/mlcourses/test-fe_.ipynb#X11sZmlsZQ%3D%3D?line=1'>2</a>\u001b[0m jacob \u001b[39m=\u001b[39m jacobian(vw, ([dth1, dth2, dth3, dth4]))\n",
      "\u001b[1;31mNameError\u001b[0m: name 'jacobian' is not defined"
     ]
    }
   ],
   "source": [
    "vw = ([v4[0], v4[1], v4[2], w4[0], w4[1], w4[2]])\n",
    "jacob = jacobian(vw, ([dth1, dth2, dth3, dth4]))"
   ]
  },
  {
   "cell_type": "code",
   "execution_count": 18,
   "metadata": {},
   "outputs": [
    {
     "ename": "ValueError",
     "evalue": "cannot reshape array of size 6 into shape (4,1)",
     "output_type": "error",
     "traceback": [
      "\u001b[1;31m---------------------------------------------------------------------------\u001b[0m",
      "\u001b[1;31mValueError\u001b[0m                                Traceback (most recent call last)",
      "\u001b[1;32mc:\\Users\\nuke\\Desktop\\mlcourses\\test-fe_.ipynb Cell 10\u001b[0m line \u001b[0;36m1\n\u001b[1;32m----> <a href='vscode-notebook-cell:/c%3A/Users/nuke/Desktop/mlcourses/test-fe_.ipynb#X12sZmlsZQ%3D%3D?line=0'>1</a>\u001b[0m jac \u001b[39m=\u001b[39m np\u001b[39m.\u001b[39mlinalg\u001b[39m.\u001b[39msolve(np\u001b[39m.\u001b[39mreshape(vw, (\u001b[39m6\u001b[39m, \u001b[39m1\u001b[39m)), np\u001b[39m.\u001b[39;49mreshape(([dth1, dth2, dth3, dth4,  \u001b[39m0\u001b[39;49m, \u001b[39m0\u001b[39;49m]), (\u001b[39m4\u001b[39;49m, \u001b[39m1\u001b[39;49m)))\n",
      "File \u001b[1;32mc:\\Users\\nuke\\AppData\\Local\\Programs\\Python\\Python310\\lib\\site-packages\\numpy\\core\\fromnumeric.py:285\u001b[0m, in \u001b[0;36mreshape\u001b[1;34m(a, newshape, order)\u001b[0m\n\u001b[0;32m    200\u001b[0m \u001b[39m@array_function_dispatch\u001b[39m(_reshape_dispatcher)\n\u001b[0;32m    201\u001b[0m \u001b[39mdef\u001b[39;00m \u001b[39mreshape\u001b[39m(a, newshape, order\u001b[39m=\u001b[39m\u001b[39m'\u001b[39m\u001b[39mC\u001b[39m\u001b[39m'\u001b[39m):\n\u001b[0;32m    202\u001b[0m \u001b[39m    \u001b[39m\u001b[39m\"\"\"\u001b[39;00m\n\u001b[0;32m    203\u001b[0m \u001b[39m    Gives a new shape to an array without changing its data.\u001b[39;00m\n\u001b[0;32m    204\u001b[0m \n\u001b[1;32m   (...)\u001b[0m\n\u001b[0;32m    283\u001b[0m \u001b[39m           [5, 6]])\u001b[39;00m\n\u001b[0;32m    284\u001b[0m \u001b[39m    \"\"\"\u001b[39;00m\n\u001b[1;32m--> 285\u001b[0m     \u001b[39mreturn\u001b[39;00m _wrapfunc(a, \u001b[39m'\u001b[39;49m\u001b[39mreshape\u001b[39;49m\u001b[39m'\u001b[39;49m, newshape, order\u001b[39m=\u001b[39;49morder)\n",
      "File \u001b[1;32mc:\\Users\\nuke\\AppData\\Local\\Programs\\Python\\Python310\\lib\\site-packages\\numpy\\core\\fromnumeric.py:56\u001b[0m, in \u001b[0;36m_wrapfunc\u001b[1;34m(obj, method, *args, **kwds)\u001b[0m\n\u001b[0;32m     54\u001b[0m bound \u001b[39m=\u001b[39m \u001b[39mgetattr\u001b[39m(obj, method, \u001b[39mNone\u001b[39;00m)\n\u001b[0;32m     55\u001b[0m \u001b[39mif\u001b[39;00m bound \u001b[39mis\u001b[39;00m \u001b[39mNone\u001b[39;00m:\n\u001b[1;32m---> 56\u001b[0m     \u001b[39mreturn\u001b[39;00m _wrapit(obj, method, \u001b[39m*\u001b[39margs, \u001b[39m*\u001b[39m\u001b[39m*\u001b[39mkwds)\n\u001b[0;32m     58\u001b[0m \u001b[39mtry\u001b[39;00m:\n\u001b[0;32m     59\u001b[0m     \u001b[39mreturn\u001b[39;00m bound(\u001b[39m*\u001b[39margs, \u001b[39m*\u001b[39m\u001b[39m*\u001b[39mkwds)\n",
      "File \u001b[1;32mc:\\Users\\nuke\\AppData\\Local\\Programs\\Python\\Python310\\lib\\site-packages\\numpy\\core\\fromnumeric.py:45\u001b[0m, in \u001b[0;36m_wrapit\u001b[1;34m(obj, method, *args, **kwds)\u001b[0m\n\u001b[0;32m     43\u001b[0m \u001b[39mexcept\u001b[39;00m \u001b[39mAttributeError\u001b[39;00m:\n\u001b[0;32m     44\u001b[0m     wrap \u001b[39m=\u001b[39m \u001b[39mNone\u001b[39;00m\n\u001b[1;32m---> 45\u001b[0m result \u001b[39m=\u001b[39m \u001b[39mgetattr\u001b[39m(asarray(obj), method)(\u001b[39m*\u001b[39margs, \u001b[39m*\u001b[39m\u001b[39m*\u001b[39mkwds)\n\u001b[0;32m     46\u001b[0m \u001b[39mif\u001b[39;00m wrap:\n\u001b[0;32m     47\u001b[0m     \u001b[39mif\u001b[39;00m \u001b[39mnot\u001b[39;00m \u001b[39misinstance\u001b[39m(result, mu\u001b[39m.\u001b[39mndarray):\n",
      "\u001b[1;31mValueError\u001b[0m: cannot reshape array of size 6 into shape (4,1)"
     ]
    }
   ],
   "source": [
    "jac = np.linalg.solve(np.reshape(vw, (6, 1)), np.reshape(([dth1, dth2, dth3, dth4,  0, 0]), (4, 1)))"
   ]
  },
  {
   "cell_type": "code",
   "execution_count": null,
   "metadata": {},
   "outputs": [],
   "source": []
  }
 ],
 "metadata": {
  "kernelspec": {
   "display_name": "Python 3",
   "language": "python",
   "name": "python3"
  },
  "language_info": {
   "codemirror_mode": {
    "name": "ipython",
    "version": 3
   },
   "file_extension": ".py",
   "mimetype": "text/x-python",
   "name": "python",
   "nbconvert_exporter": "python",
   "pygments_lexer": "ipython3",
   "version": "3.10.6"
  }
 },
 "nbformat": 4,
 "nbformat_minor": 2
}
